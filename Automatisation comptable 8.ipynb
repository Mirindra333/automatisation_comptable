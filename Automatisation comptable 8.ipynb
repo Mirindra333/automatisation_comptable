{
 "cells": [
  {
   "cell_type": "code",
   "execution_count": null,
   "id": "06925f76",
   "metadata": {},
   "outputs": [],
   "source": []
  },
  {
   "cell_type": "code",
   "execution_count": null,
   "id": "62e6a211",
   "metadata": {},
   "outputs": [],
   "source": []
  },
  {
   "cell_type": "code",
   "execution_count": 1,
   "id": "5516a97f",
   "metadata": {},
   "outputs": [
    {
     "name": "stderr",
     "output_type": "stream",
     "text": [
      "[nltk_data] Error loading stopwords: <urlopen error [Errno 11001]\n",
      "[nltk_data]     getaddrinfo failed>\n"
     ]
    },
    {
     "name": "stdout",
     "output_type": "stream",
     "text": [
      "Accuracy: 0.9853503184713376\n",
      "Classification Report:\n",
      "              precision    recall  f1-score   support\n",
      "\n",
      "         202       1.00      1.00      1.00       707\n",
      "         606       0.97      0.96      0.97       353\n",
      "         625       0.97      0.98      0.98       510\n",
      "\n",
      "    accuracy                           0.99      1570\n",
      "   macro avg       0.98      0.98      0.98      1570\n",
      "weighted avg       0.99      0.99      0.99      1570\n",
      "\n"
     ]
    }
   ],
   "source": [
    "import pandas as pd\n",
    "from sklearn.model_selection import train_test_split\n",
    "from sklearn.feature_extraction.text import TfidfVectorizer\n",
    "from sklearn.ensemble import RandomForestClassifier\n",
    "from sklearn.metrics import accuracy_score, classification_report\n",
    "from sklearn.preprocessing import StandardScaler\n",
    "import nltk\n",
    "from nltk.corpus import stopwords\n",
    "import spacy\n",
    "\n",
    "# Télécharger les stopwords de NLTK\n",
    "nltk.download('stopwords')\n",
    "stop_words = set(stopwords.words('english'))\n",
    "\n",
    "# Télécharger le modèle de lemmatisation de Spacy\n",
    "nlp = spacy.load('en_core_web_sm')\n",
    "\n",
    "# Lire les données du fichier CSV\n",
    "data = pd.read_csv(\"C:/Users/mob8/Desktop/Cours IA/test_pandas3.csv\", encoding='latin-1')\n",
    "\n",
    "# Supprimer les lignes avec des valeurs manquantes\n",
    "data.dropna(inplace=True)\n",
    "\n",
    "# Supposons que votre fichier CSV a des colonnes 'description' pour les libellés et 'compte_comptable' pour les numéros de comptes\n",
    "texts = data['description']\n",
    "labels = data['compte_comptable']\n",
    "\n",
    "# Fonction de prétraitement du texte\n",
    "def preprocess_text(text):\n",
    "    doc = nlp(text)\n",
    "    tokens = [token.lemma_ for token in doc if token.is_alpha and token.lemma_ not in stop_words]\n",
    "    return ' '.join(tokens)\n",
    "\n",
    "# Appliquer la fonction de prétraitement à tous les textes\n",
    "texts = texts.apply(preprocess_text)\n",
    "\n",
    "# Diviser les données en ensembles d'entraînement et de test\n",
    "X_train, X_test, y_train, y_test = train_test_split(texts, labels, test_size=0.3, random_state=101)\n",
    "\n",
    "# Convertir le texte en caractéristiques numériques avec TF-IDF\n",
    "vectorizer = TfidfVectorizer()\n",
    "X_train_tfidf = vectorizer.fit_transform(X_train)\n",
    "X_test_tfidf = vectorizer.transform(X_test)\n",
    "\n",
    "# Normaliser les données TF-IDF\n",
    "scaler = StandardScaler(with_mean=False)\n",
    "X_train_tfidf = scaler.fit_transform(X_train_tfidf)\n",
    "X_test_tfidf = scaler.transform(X_test_tfidf)\n",
    "\n",
    "# Entraîner le modèle Random Forest\n",
    "model = RandomForestClassifier()\n",
    "model.fit(X_train_tfidf, y_train)\n",
    "\n",
    "# Prédire sur l'ensemble de test\n",
    "y_pred = model.predict(X_test_tfidf)\n",
    "\n",
    "# Évaluer le modèle\n",
    "print(\"Accuracy:\", accuracy_score(y_test, y_pred))\n",
    "print(\"Classification Report:\")\n",
    "print(classification_report(y_test, y_pred))"
   ]
  },
  {
   "cell_type": "code",
   "execution_count": 7,
   "id": "3c4e8fb2",
   "metadata": {},
   "outputs": [
    {
     "name": "stdout",
     "output_type": "stream",
     "text": [
      "entrez : achat 158 stylos pour félicien\n",
      "La prédiction pour le nouveau libellé est: 606\n"
     ]
    }
   ],
   "source": [
    "# Tester un nouveau libellé\n",
    "new_description = input(\"entrez : \")\n",
    "\n",
    "# Prétraiter le nouveau libellé\n",
    "new_description_preprocessed = preprocess_text(new_description)\n",
    "\n",
    "# Transformer le nouveau libellé en caractéristiques TF-IDF\n",
    "new_description_tfidf = vectorizer.transform([new_description_preprocessed])\n",
    "\n",
    "# Normaliser les caractéristiques TF-IDF du nouveau libellé\n",
    "new_description_tfidf = scaler.transform(new_description_tfidf)\n",
    "\n",
    "# Prédire le compte comptable pour le nouveau libellé\n",
    "new_prediction = model.predict(new_description_tfidf)\n",
    "\n",
    "print(\"La prédiction pour le nouveau libellé est:\", new_prediction[0])"
   ]
  },
  {
   "cell_type": "code",
   "execution_count": null,
   "id": "9eca83cf",
   "metadata": {},
   "outputs": [],
   "source": []
  },
  {
   "cell_type": "code",
   "execution_count": null,
   "id": "3a63a68b",
   "metadata": {},
   "outputs": [],
   "source": []
  },
  {
   "cell_type": "code",
   "execution_count": null,
   "id": "0a6b2f98",
   "metadata": {},
   "outputs": [],
   "source": []
  }
 ],
 "metadata": {
  "kernelspec": {
   "display_name": "Python 3 (ipykernel)",
   "language": "python",
   "name": "python3"
  },
  "language_info": {
   "codemirror_mode": {
    "name": "ipython",
    "version": 3
   },
   "file_extension": ".py",
   "mimetype": "text/x-python",
   "name": "python",
   "nbconvert_exporter": "python",
   "pygments_lexer": "ipython3",
   "version": "3.11.5"
  }
 },
 "nbformat": 4,
 "nbformat_minor": 5
}
